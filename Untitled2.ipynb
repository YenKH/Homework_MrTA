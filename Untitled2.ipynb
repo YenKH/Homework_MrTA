{
 "cells": [
  {
   "cell_type": "code",
   "execution_count": 10,
   "id": "e51f3e63",
   "metadata": {},
   "outputs": [
    {
     "name": "stdout",
     "output_type": "stream",
     "text": [
      "Nhập số tự nhiên N: 66\n",
      "Các ước của 66 là: \t1, 2, 3, 6, 11, 22, 33, 66, "
     ]
    }
   ],
   "source": [
    "n = int(input('Nhập số tự nhiên N: '))\n",
    "print (f'Các ước của {n} là: ' , end ='\\t')\n",
    "for i in range (1, n+1):\n",
    "    if n%i==0:\n",
    "        print (f'{i},', end=' ')\n",
    "    "
   ]
  },
  {
   "cell_type": "code",
   "execution_count": 11,
   "id": "d1dc41b0",
   "metadata": {},
   "outputs": [
    {
     "name": "stdout",
     "output_type": "stream",
     "text": [
      "Nhập số tự nhiên N: 9\n",
      " N!= 362880\n"
     ]
    }
   ],
   "source": [
    "n = int(input('Nhập số tự nhiên N: '))\n",
    "rt = 1\n",
    "for i in range (1, n+1):\n",
    "    rt*=i\n",
    "print (f' N!= {rt}')"
   ]
  },
  {
   "cell_type": "code",
   "execution_count": 13,
   "id": "ceb4dbf0",
   "metadata": {},
   "outputs": [
    {
     "name": "stdout",
     "output_type": "stream",
     "text": [
      "Nhập vào tên nhân viên: Hà anh Tuấn\n"
     ]
    },
    {
     "ename": "TypeError",
     "evalue": "'builtin_function_or_method' object is not iterable",
     "output_type": "error",
     "traceback": [
      "\u001b[1;31m---------------------------------------------------------------------------\u001b[0m",
      "\u001b[1;31mTypeError\u001b[0m                                 Traceback (most recent call last)",
      "\u001b[1;32m~\\AppData\\Local\\Temp\\ipykernel_8348\\1703910377.py\u001b[0m in \u001b[0;36m<module>\u001b[1;34m\u001b[0m\n\u001b[0;32m      1\u001b[0m \u001b[0mname\u001b[0m \u001b[1;33m=\u001b[0m \u001b[0minput\u001b[0m\u001b[1;33m(\u001b[0m\u001b[1;34m'Nhập vào tên nhân viên: '\u001b[0m\u001b[1;33m)\u001b[0m\u001b[1;33m.\u001b[0m\u001b[0mlower\u001b[0m\u001b[1;33m\u001b[0m\u001b[1;33m\u001b[0m\u001b[0m\n\u001b[0;32m      2\u001b[0m \u001b[0mname1\u001b[0m \u001b[1;33m=\u001b[0m \u001b[1;34m''\u001b[0m\u001b[1;33m\u001b[0m\u001b[1;33m\u001b[0m\u001b[0m\n\u001b[1;32m----> 3\u001b[1;33m \u001b[1;32mfor\u001b[0m \u001b[0mi\u001b[0m \u001b[1;32min\u001b[0m \u001b[0mname\u001b[0m\u001b[1;33m:\u001b[0m\u001b[1;33m\u001b[0m\u001b[1;33m\u001b[0m\u001b[0m\n\u001b[0m\u001b[0;32m      4\u001b[0m     \u001b[0mprint\u001b[0m \u001b[1;33m(\u001b[0m\u001b[0mi\u001b[0m\u001b[1;33m)\u001b[0m\u001b[1;33m\u001b[0m\u001b[1;33m\u001b[0m\u001b[0m\n",
      "\u001b[1;31mTypeError\u001b[0m: 'builtin_function_or_method' object is not iterable"
     ]
    }
   ],
   "source": [
    "name = input('Nhập vào tên nhân viên: ').lower\n",
    "name1 = ''\n",
    "for i in name:\n",
    "    print (i)"
   ]
  },
  {
   "cell_type": "code",
   "execution_count": null,
   "id": "583332ba",
   "metadata": {},
   "outputs": [],
   "source": [
    "  if i in 'à á ả ã ạ ă ằ ắ ẳ ẵ ặ ấ ầ ẩ ẫ ậ':\n",
    "        name1 +='a'\n",
    "    elif i in 'è é ẻ ẽ ẹ ê ề ế ể ễ ệ':\n",
    "        name1 +='e'\n",
    "    elif i in 'ò ó ỏ õ ọ ô ồ ố ổ ỗ ộ ơ ờ ớ ở ỡ ợ ':\n",
    "        name1 +=\"o\"\n",
    "    elif i in 'i ì í ỉ ĩ ị':\n",
    "        name1+='i'\n",
    "    elif i in 'u ù ú ủ ũ ụ ư ừ ứ ử ữ ự':\n",
    "        name1 += 'u'\n",
    "    elif i in 'y ỳ ý ỷ ỹ ỵ':\n",
    "        name1 += 'y'\n",
    "    else:\n",
    "        name1+=i\n",
    "print (name1)"
   ]
  }
 ],
 "metadata": {
  "kernelspec": {
   "display_name": "Python 3 (ipykernel)",
   "language": "python",
   "name": "python3"
  },
  "language_info": {
   "codemirror_mode": {
    "name": "ipython",
    "version": 3
   },
   "file_extension": ".py",
   "mimetype": "text/x-python",
   "name": "python",
   "nbconvert_exporter": "python",
   "pygments_lexer": "ipython3",
   "version": "3.9.13"
  }
 },
 "nbformat": 4,
 "nbformat_minor": 5
}
