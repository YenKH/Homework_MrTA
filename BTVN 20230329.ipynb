{
 "cells": [
  {
   "cell_type": "markdown",
   "id": "af709419",
   "metadata": {},
   "source": [
    "BT phần mềm cộng số"
   ]
  },
  {
   "cell_type": "code",
   "execution_count": 1,
   "id": "0ebcb822",
   "metadata": {},
   "outputs": [
    {
     "name": "stdout",
     "output_type": "stream",
     "text": [
      "Bạn muốn thử sức phép cộng với các số trong phạm vi bao nhiêu?  10\n",
      "4 + 8 = ?\n",
      "Nhập kết quả của phép tính: 12\n",
      "Đúng\n",
      "Bạn có muốn tiếp tục không?\n",
      "    Y hoặc y: Có,   Q hoặc q: Không ...q\n",
      "Cảm ơn bạn, hẹn gặp lại lần sau...\n"
     ]
    }
   ],
   "source": [
    "import random\n",
    "a = int(input('Bạn muốn thử sức phép cộng với các số trong phạm vi bao nhiêu?  '))\n",
    "cont = 'y'\n",
    "while cont == 'y' :\n",
    "    x1 = random.randint(0 , a)\n",
    "    x2 = random.randint(0 , a)\n",
    "    print (f'{x1} + {x2} = ?')\n",
    "    c = int(input('Nhập kết quả của phép tính: '))\n",
    "    if c == x1+x2 : \n",
    "        print ('Đúng')\n",
    "    else: \n",
    "        print ('Sai')\n",
    "    cont = input('''Bạn có muốn tiếp tục không?\n",
    "    Y hoặc y: Có,   Q hoặc q: Không ...''').lower()\n",
    "print ('Cảm ơn bạn, hẹn gặp lại lần sau...')"
   ]
  },
  {
   "cell_type": "markdown",
   "id": "eef1c084",
   "metadata": {},
   "source": [
    "BT Nhập n, in ra hình thoi cân"
   ]
  },
  {
   "cell_type": "code",
   "execution_count": 26,
   "id": "e7020cb3",
   "metadata": {},
   "outputs": [
    {
     "name": "stdout",
     "output_type": "stream",
     "text": [
      "Nhập một số tự nhiên lẻ:15\n",
      "        *\n",
      "       ***\n",
      "      *****\n",
      "     *******\n",
      "    *********\n",
      "   ***********\n",
      "  *************\n",
      " ***************\n",
      "  *************\n",
      "   ***********\n",
      "    *********\n",
      "     *******\n",
      "      *****\n",
      "       ***\n",
      "        *\n"
     ]
    }
   ],
   "source": [
    "n = int(input('Nhập một số tự nhiên lẻ:'))\n",
    "i = 0\n",
    "j = 2\n",
    "while i<n :\n",
    "    print ((n//2-i//2)*\" \", (i+1)*\"*\")\n",
    "    i+=2\n",
    "while j<n :\n",
    "    print (j//2*' ', (n-j)*\"*\")\n",
    "    j+=2\n"
   ]
  },
  {
   "cell_type": "code",
   "execution_count": 22,
   "id": "aa228975",
   "metadata": {},
   "outputs": [
    {
     "name": "stdout",
     "output_type": "stream",
     "text": [
      "   *****\n"
     ]
    }
   ],
   "source": [
    "print((9//2 - 4//2)*\" \", 5*\"*\")\n"
   ]
  },
  {
   "cell_type": "code",
   "execution_count": null,
   "id": "803e6446",
   "metadata": {},
   "outputs": [],
   "source": []
  }
 ],
 "metadata": {
  "kernelspec": {
   "display_name": "Python 3 (ipykernel)",
   "language": "python",
   "name": "python3"
  },
  "language_info": {
   "codemirror_mode": {
    "name": "ipython",
    "version": 3
   },
   "file_extension": ".py",
   "mimetype": "text/x-python",
   "name": "python",
   "nbconvert_exporter": "python",
   "pygments_lexer": "ipython3",
   "version": "3.9.13"
  }
 },
 "nbformat": 4,
 "nbformat_minor": 5
}
