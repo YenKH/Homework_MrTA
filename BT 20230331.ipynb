{
 "cells": [
  {
   "cell_type": "markdown",
   "id": "e3b1e503-e68d-4ea4-9d49-518f0fb16542",
   "metadata": {},
   "source": [
    "Nhập N, in ra tất cả các ước của N"
   ]
  },
  {
   "cell_type": "code",
   "execution_count": null,
   "id": "9661ca88-bc70-4772-9166-cbb7a28a04c8",
   "metadata": {},
   "outputs": [],
   "source": [
    "n = int(input('Nhập số tự nhiên N: '))\n",
    "print (f'Các ước của {n} là: ' , end ='\\t')\n",
    "for i in range (1, n+1):\n",
    "    if n%i==0:\n",
    "        print (f'{i},', end=' ')"
   ]
  },
  {
   "cell_type": "markdown",
   "id": "9c849ab8-baf2-4d6a-b2bb-2fcd89448a35",
   "metadata": {},
   "source": [
    "Nhập N, tính N!"
   ]
  },
  {
   "cell_type": "code",
   "execution_count": null,
   "id": "9b0dc776-bde8-49c9-8e48-1d2d2d761dfc",
   "metadata": {},
   "outputs": [],
   "source": [
    "n = int(input('Nhập số tự nhiên N: '))\n",
    "rt = 1\n",
    "for i in range (1, n+1):\n",
    "    rt*=i\n",
    "print (f' N!= {rt}')"
   ]
  },
  {
   "cell_type": "markdown",
   "id": "3b2ee293-8bd9-43b9-ad8b-4ebc0ebeef6c",
   "metadata": {},
   "source": [
    "ctrinh tìm tên nhân viên"
   ]
  },
  {
   "cell_type": "code",
   "execution_count": 8,
   "id": "18308255-5635-43dd-b25b-4bc5f9652335",
   "metadata": {},
   "outputs": [
    {
     "name": "stdin",
     "output_type": "stream",
     "text": [
      "Nhập vào tên nhân viên:  Hà ANh Tuấn\n"
     ]
    },
    {
     "name": "stdout",
     "output_type": "stream",
     "text": [
      "Ha Anh Tuan\n"
     ]
    }
   ],
   "source": [
    "name = input('Nhập vào tên nhân viên: ').lower()\n",
    "name1 = ''\n",
    "for i in name:\n",
    "    if i ==' ':\n",
    "        name1+=' '\n",
    "    elif i in 'à á ả ã ạ ă ằ ắ ẳ ẵ ặ ấ ầ ẩ ẫ ậ':\n",
    "        name1 +='a'\n",
    "    elif i in 'è é ẻ ẽ ẹ ê ề ế ể ễ ệ':\n",
    "        name1 +='e'\n",
    "    elif i in 'ò ó ỏ õ ọ ô ồ ố ổ ỗ ộ ơ ờ ớ ở ỡ ợ ':\n",
    "        name1 +=\"o\"\n",
    "    elif i in 'i ì í ỉ ĩ ị':\n",
    "        name1+='i'\n",
    "    elif i in 'u ù ú ủ ũ ụ ư ừ ứ ử ữ ự':\n",
    "        name1 += 'u'\n",
    "    elif i in 'y ỳ ý ỷ ỹ ỵ':\n",
    "        name1 += 'y'\n",
    "    else:\n",
    "        name1+=i\n",
    "print (name1.title())"
   ]
  },
  {
   "cell_type": "code",
   "execution_count": null,
   "id": "5290915f-9a57-4e96-a05a-f3351de164ac",
   "metadata": {},
   "outputs": [],
   "source": []
  }
 ],
 "metadata": {
  "kernelspec": {
   "display_name": "anaconda-2022.05-py39",
   "language": "python",
   "name": "conda-env-anaconda-2022.05-py39-py"
  },
  "language_info": {
   "codemirror_mode": {
    "name": "ipython",
    "version": 3
   },
   "file_extension": ".py",
   "mimetype": "text/x-python",
   "name": "python",
   "nbconvert_exporter": "python",
   "pygments_lexer": "ipython3",
   "version": "3.9.12"
  }
 },
 "nbformat": 4,
 "nbformat_minor": 5
}
