{
 "cells": [
  {
   "cell_type": "code",
   "execution_count": 1,
   "id": "90e32fd3",
   "metadata": {},
   "outputs": [
    {
     "name": "stdout",
     "output_type": "stream",
     "text": [
      "Điểm toán cao nhất: 10\n",
      "Sinh viên có điểm toán cao nhất: [('Trần Minh Tân', 26, 'Nghệ An')]\n"
     ]
    }
   ],
   "source": [
    "students = {('Hà Văn Hoàng' , 24, 'Hà Nội'):[6, 9, 10] , \n",
    "            ('Trần Minh Tân', 26 , 'Nghệ An') : [10, 8, 7], \n",
    "            ('Cao Hoàng Yến', 20, 'Bắc Ninh'):[5, 3, 5]}\n",
    "max_math = 0\n",
    "stud_max_math=[]\n",
    "for stud in students.keys():\n",
    "    if students.get(stud)[0] >= max_math:\n",
    "        max_math = students.get(stud)[0]\n",
    "for stud in students.keys():\n",
    "    if max_math == students.get(stud)[0]:\n",
    "        stud_max_math.append(stud)\n",
    "print(f'Điểm toán cao nhất: {max_math}')\n",
    "print (f'Sinh viên có điểm toán cao nhất: {stud_max_math}')"
   ]
  },
  {
   "cell_type": "code",
   "execution_count": 2,
   "id": "05893c83",
   "metadata": {},
   "outputs": [
    {
     "name": "stdout",
     "output_type": "stream",
     "text": [
      "Điểm tổng kết cao nhất: 8.75\n",
      "Sinh viên có điểm tổng kết cao nhất: [('Trần Minh Tân', 26, 'Nghệ An')]\n"
     ]
    }
   ],
   "source": [
    "def diemTK (toan, ly, hoa):\n",
    "    ''' Hàm tính điểm tổng kết '''\n",
    "    tk=(toan*2+ly+hoa)/4\n",
    "    return tk\n",
    "max_tk=0\n",
    "stud_max_tk= []\n",
    "for stud in students.keys():\n",
    "    diem_tk = diemTK(students.get(stud)[0], students.get(stud)[1], students.get(stud)[2])\n",
    "    if diem_tk >= max_tk:\n",
    "        max_tk = diem_tk\n",
    "for stud in students.keys():\n",
    "    diem_tk = diemTK(students.get(stud)[0], students.get(stud)[1], students.get(stud)[2])\n",
    "    if diem_tk==max_tk:\n",
    "        stud_max_tk.append(stud)\n",
    "print(f'Điểm tổng kết cao nhất: {max_tk}')\n",
    "print (f'Sinh viên có điểm tổng kết cao nhất: {stud_max_tk}')"
   ]
  },
  {
   "cell_type": "code",
   "execution_count": 3,
   "id": "5ecbb583",
   "metadata": {},
   "outputs": [
    {
     "name": "stdout",
     "output_type": "stream",
     "text": [
      "{('Hà Văn Hoàng', 24, 'Hà Nội'): [6, 9, 10, 'Khá'], ('Trần Minh Tân', 26, 'Nghệ An'): [10, 8, 7, 'Giỏi'], ('Cao Hoàng Yến', 20, 'Bắc Ninh'): [5, 3, 5, 'Trung bình']}\n"
     ]
    }
   ],
   "source": [
    "for stud in students.keys():\n",
    "    diem_tk = diemTK(students.get(stud)[0], students.get(stud)[1], students.get(stud)[2])\n",
    "    if diem_tk>8:\n",
    "        students.get(stud).append (\"Giỏi\")\n",
    "    elif diem_tk>6:\n",
    "        students.get(stud).append (\"Khá\")\n",
    "    else:\n",
    "        students.get(stud).append (\"Trung bình\")\n",
    "print (students)"
   ]
  },
  {
   "cell_type": "code",
   "execution_count": 4,
   "id": "aca59559",
   "metadata": {},
   "outputs": [
    {
     "name": "stdout",
     "output_type": "stream",
     "text": [
      "[[10, 8, 7, 'Giỏi'], [6, 9, 10, 'Khá'], [5, 3, 5, 'Trung bình']]\n"
     ]
    }
   ],
   "source": [
    "sorted_diemToan = sorted(students.values(), key=lambda item: (10-item[0], item[1]))\n",
    "print(sorted_diemToan)"
   ]
  },
  {
   "cell_type": "code",
   "execution_count": null,
   "id": "7125f0dc",
   "metadata": {},
   "outputs": [],
   "source": []
  }
 ],
 "metadata": {
  "kernelspec": {
   "display_name": "Python 3 (ipykernel)",
   "language": "python",
   "name": "python3"
  },
  "language_info": {
   "codemirror_mode": {
    "name": "ipython",
    "version": 3
   },
   "file_extension": ".py",
   "mimetype": "text/x-python",
   "name": "python",
   "nbconvert_exporter": "python",
   "pygments_lexer": "ipython3",
   "version": "3.9.13"
  }
 },
 "nbformat": 4,
 "nbformat_minor": 5
}
