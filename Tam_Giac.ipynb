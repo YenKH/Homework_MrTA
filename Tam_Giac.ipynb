{
  "metadata": {
    "language_info": {
      "codemirror_mode": {
        "name": "python",
        "version": 3
      },
      "file_extension": ".py",
      "mimetype": "text/x-python",
      "name": "python",
      "nbconvert_exporter": "python",
      "pygments_lexer": "ipython3",
      "version": "3.8"
    },
    "kernelspec": {
      "name": "python",
      "display_name": "Python (Pyodide)",
      "language": "python"
    }
  },
  "nbformat_minor": 4,
  "nbformat": 4,
  "cells": [
    {
      "cell_type": "code",
      "source": "a=10\nb=7\nc=8\nTamGiac= a+b>c and a+c>b and b+c>a\nCan= TamGiac and (a==b or a==c or b==c)\nDeu= a==b==c\nVuong= (a**2+b**2)==c**2 or (a**2+c**2)==b**2 or (b**2+c**2) == a**2\nVuongCan= Vuong and ((a==b) or (a==c) or (b==c))\nprint ('a, b, c là tam giác? ' , TamGiac)\nprint ('a, b, c là tam giác cân? ' , Can)\nprint ('a, b, c là tam giác đều? ' , Deu)\nprint ('a, b, c là tam giác vuông? ' , Vuong)\nprint ('a, b, c là tam giác vuông cân? ' , VuongCan)\n",
      "metadata": {
        "trusted": true
      },
      "execution_count": 3,
      "outputs": [
        {
          "name": "stdout",
          "text": "a, b, c là tam giác?  True\na, b, c là tam giác cân?  False\na, b, c là tam giác đều?  False\na, b, c là tam giác vuông?  False\na, b, c là tam giác vuông cân?  False\n",
          "output_type": "stream"
        }
      ]
    },
    {
      "cell_type": "code",
      "source": "",
      "metadata": {},
      "execution_count": null,
      "outputs": []
    }
  ]
}