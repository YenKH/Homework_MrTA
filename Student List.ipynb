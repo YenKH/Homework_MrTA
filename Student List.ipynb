{
 "cells": [
  {
   "cell_type": "code",
   "execution_count": 1,
   "id": "84b49c67-f5d8-4034-af90-ee003a49f1a8",
   "metadata": {},
   "outputs": [],
   "source": [
    "class Student:\n",
    "    def __init__(self, code, name, dob, nativePlace):\n",
    "        self.code=code\n",
    "        self.name=name\n",
    "        self.dob=dob\n",
    "        self.nativePlace=nativePlace\n",
    "    def info(self):\n",
    "        row = f'{self.code.ljust(10)} {self.name.ljust(25)} {self.dob.ljust(20)} {self.nativePlace}'\n",
    "        print(row)\n",
    "class ListStudent:\n",
    "    def __init__(self, ds):\n",
    "        self.ds=ds\n",
    "    def show(self):\n",
    "        header= f'Mã SV'.ljust(20)+ 'Họ và tên'.ljust(20)+ 'Ngày sinh'.ljust(20)+ 'Quê quán'\n",
    "        print (header)\n",
    "        for i in self.ds:\n",
    "            i.info()\n",
    "        print('='*20+' Danh sách có '+ str(len(self.ds))+ ' sinh viên '+'='*20)\n",
    "    def add (self, st):\n",
    "            self.ds.append(st)\n",
    "    def insert(self, index, st):\n",
    "        self.ds.insert(index, st)\n",
    "    def update(self, code, st):\n",
    "        for i in self.ds:\n",
    "            if i.code==code:\n",
    "                if st.name !=\"\":\n",
    "                    i.name=st.name\n",
    "                if st.dob!=\"\":\n",
    "                    i. dob=st.dob\n",
    "                if st.nativePlace!=\"\":\n",
    "                    i.nativePlace = st.native.Place\n",
    "                return True\n",
    "        return False\n",
    "    def validate(self, code):\n",
    "        exist = False\n",
    "        for i in self.ds:\n",
    "            if i.code== code:\n",
    "                exist = True\n",
    "                info=(i.code, i.name, i.dob, i.nativePlace)\n",
    "        return exist , info\n",
    "    def delete(self, code):\n",
    "        success=False\n",
    "        for i in self.ds:\n",
    "            if i.code == code:\n",
    "                self.ds.remove(i)\n",
    "                success=True\n",
    "                break\n",
    "        return success\n",
    "    def sortBy(self, index , direction = True):\n",
    "        ''' Index = 0 : By code\n",
    "            Index = 1 : By name\n",
    "            Index = 2 : By date of birth\n",
    "            Index = 3 : By nativePlace'''\n",
    "        if index == 0:\n",
    "            self.ds=sort(self.ds, key = lambda x : x.code , reverse = direction)\n",
    "        elif index == 1:\n",
    "            self.ds=sort(self.ds, key = lambda x : x.name , reverse = direction)\n",
    "        elif index == 2:\n",
    "            self.ds=sort(self.ds, key = lambda x : x.bod , reverse = direction)\n",
    "        elif index == 3:\n",
    "            self.ds=sort(self.ds, key = lambda x : x.nativePlace , reverse = direction)\n",
    "    def loadDefault(self):\n",
    "        self.ds=[]\n",
    "        self.ds.append(Student('231712','Lý Nguyên Tuấn', '17/12/1984', 'Hồ Chí Minh'))\n",
    "        self.ds.append(Student('841712','Hà Anh Tuấn', '17/12/1984', 'Ninh Bình'))\n",
    "        self.ds.append(Student('221712','Lã Anh Tuấn', '04/10/1947', 'Đà Lạt'))"
   ]
  },
  {
   "cell_type": "code",
   "execution_count": 2,
   "id": "1cbbc9b3-ea44-498c-87b3-e2e74d9c2461",
   "metadata": {},
   "outputs": [
    {
     "name": "stdout",
     "output_type": "stream",
     "text": [
      "Mã SV               Họ và tên           Ngày sinh           Quê quán\n",
      "231712     Lý Nguyên Tuấn            17/12/1984           Hồ Chí Minh\n",
      "841712     Hà Anh Tuấn               17/12/1984           Ninh Bình\n",
      "221712     Lã Anh Tuấn               04/10/1947           Đà Lạt\n",
      "==================== Danh sách có 3 sinh viên ====================\n"
     ]
    }
   ],
   "source": [
    "ds=ListStudent(None)\n",
    "ds.loadDefault()\n",
    "ds.show()"
   ]
  },
  {
   "cell_type": "code",
   "execution_count": null,
   "id": "ba06571e-2442-45d0-a8a0-9cebc638169f",
   "metadata": {},
   "outputs": [],
   "source": []
  },
  {
   "cell_type": "code",
   "execution_count": 3,
   "id": "9432f1c1-d98f-4e25-90c4-e4699063a038",
   "metadata": {},
   "outputs": [],
   "source": [
    "class StudentDemo:\n",
    "    def __init__(self, list_st):\n",
    "        self.list_st=list_st\n",
    "    def menu(self):\n",
    "        print('===== QUẢN LÝ SINH VIÊN =====')\n",
    "        print('=1 . Hiển thị danh sách =====')\n",
    "        print('=2 . Thêm sinh viên     =====')\n",
    "        print('=3 . Cập nhật sinh viên =====')\n",
    "        print('=4 . Xóa  sinh viên     =====')\n",
    "        print('=5 . Sắp xếp Danh sách  =====')\n",
    "        print('=0 . Thoát chương trình =====')\n",
    "        print('=============================')\n",
    "    def run (self):\n",
    "        while True:\n",
    "            self.menu()\n",
    "            choice = int(input('Nhập lựa chọn: '))\n",
    "            if choice == 1:\n",
    "                self.list_st.show()\n",
    "                input('Enter để quay lại menu chính')\n",
    "            elif choice ==2:\n",
    "                code=input('Nhập mã sinh viên: ')\n",
    "                exist=self.list_st.validate(code)\n",
    "                if not exist:\n",
    "                    name = input('Nhập họ và tên sinh viên: ')\n",
    "                    bod = input ('Nhập ngày sinh: ')\n",
    "                    nativePlace = input ('Nhập quê quán: ')\n",
    "                    if name =='' or dob == '' or nativePlace ==\"\":\n",
    "                        print ('Lỗi, chưa nhập đủ thông tin')\n",
    "                    else:\n",
    "                        st=Student(code, name, bod, nativePlace)\n",
    "                        self.list_st.add(st)\n",
    "                        print (f'Thêm thành công mã sinh viên {st.code}')\n",
    "                else:\n",
    "                    print ('Mã sinh viên đã tồn tại')\n",
    "                input('Enter để quay lại menu chính')\n",
    "            elif choice == 3:\n",
    "                code = input('Nhập mã sinh viên cần cập nhật: ')\n",
    "                exist=self.list_st.validate(code)[0]\n",
    "                if exist:\n",
    "                    print(f'Thông tin cũ: {self.list_st.validate(code)[1]}')\n",
    "                    name = input('Cập nhật họ và tên sinh viên; Enter để bỏ qua')\n",
    "                    dob = input ('Cập nhật ngày sinh; Enter để bỏ qua')\n",
    "                    nativePlace = input ('Cập nhật quê quán; Enter để bỏ qua')\n",
    "                    st=Student(code, name, dob, nativePlace)\n",
    "                    success = self.list_st.update(code,st)\n",
    "                    if success:\n",
    "                        print('Cập nhật thành công')\n",
    "                else:\n",
    "                    print ('Mã sinh viên không tồn tại')\n",
    "                input('Enter để quay lại menu chính')\n",
    "            elif choice == 4:\n",
    "                deleting_code= input('Nhập mã sinh viên cần xóa: ')\n",
    "                success = self.list_st.delete(deleting_code)\n",
    "                if success:\n",
    "                    print('Xóa thành công')\n",
    "                else:\n",
    "                    print('Lỗi, mã sinh viên không tồn tại')\n",
    "                input('Enter để quay lại menu chính')\n",
    "            elif choice == 5:\n",
    "                pass\n",
    "            elif choice == 0:\n",
    "                t=input('Bạn có muốn thoát khỏi chương trình? Y/N')\n",
    "                if t.lower()=='n':\n",
    "                    self.menu()\n",
    "                    choice = input('Nhập lựa chọn: ') \n",
    "                if t.lower()=='y':\n",
    "                    break\n",
    "                "
   ]
  },
  {
   "cell_type": "code",
   "execution_count": null,
   "id": "66a742a0-1a31-4473-bd51-eeebf33edf26",
   "metadata": {},
   "outputs": [
    {
     "name": "stdout",
     "output_type": "stream",
     "text": [
      "===== QUẢN LÝ SINH VIÊN =====\n",
      "=1 . Hiển thị danh sách =====\n",
      "=2 . Thêm sinh viên     =====\n",
      "=3 . Cập nhật sinh viên =====\n",
      "=4 . Xóa  sinh viên     =====\n",
      "=5 . Sắp xếp Danh sách  =====\n",
      "=0 . Thoát chương trình =====\n",
      "=============================\n"
     ]
    },
    {
     "name": "stdin",
     "output_type": "stream",
     "text": [
      "Nhập lựa chọn:  3\n",
      "Nhập mã sinh viên cần cập nhật:  231712\n"
     ]
    },
    {
     "name": "stdout",
     "output_type": "stream",
     "text": [
      "Thông tin cũ: ('231712', 'Lý Nguyên Tuấn', '17/12/1984', 'Hồ Chí Minh')\n"
     ]
    },
    {
     "name": "stdin",
     "output_type": "stream",
     "text": [
      "Cập nhật họ và tên sinh viên; Enter để bỏ qua Lý Nguyễn Tuấn\n",
      "Cập nhật ngày sinh; Enter để bỏ qua \n",
      "Cập nhật quê quán; Enter để bỏ qua \n"
     ]
    },
    {
     "name": "stdout",
     "output_type": "stream",
     "text": [
      "Cập nhật thành công\n"
     ]
    },
    {
     "name": "stdin",
     "output_type": "stream",
     "text": [
      "Enter để quay lại menu chính \n"
     ]
    },
    {
     "name": "stdout",
     "output_type": "stream",
     "text": [
      "===== QUẢN LÝ SINH VIÊN =====\n",
      "=1 . Hiển thị danh sách =====\n",
      "=2 . Thêm sinh viên     =====\n",
      "=3 . Cập nhật sinh viên =====\n",
      "=4 . Xóa  sinh viên     =====\n",
      "=5 . Sắp xếp Danh sách  =====\n",
      "=0 . Thoát chương trình =====\n",
      "=============================\n"
     ]
    },
    {
     "name": "stdin",
     "output_type": "stream",
     "text": [
      "Nhập lựa chọn:  1\n"
     ]
    },
    {
     "name": "stdout",
     "output_type": "stream",
     "text": [
      "Mã SV               Họ và tên           Ngày sinh           Quê quán\n",
      "231712     Lý Nguyễn Tuấn            17/12/1984           Hồ Chí Minh\n",
      "841712     Hà Anh Tuấn               17/12/1984           Ninh Bình\n",
      "221712     Lã Anh Tuấn               04/10/1947           Đà Lạt\n",
      "==================== Danh sách có 3 sinh viên ====================\n"
     ]
    }
   ],
   "source": [
    "ds.loadDefault()\n",
    "demo=StudentDemo(ds)\n",
    "demo.run()"
   ]
  },
  {
   "cell_type": "code",
   "execution_count": null,
   "id": "4dad8edd-35fd-44f1-a992-d6a4a7743536",
   "metadata": {},
   "outputs": [],
   "source": []
  }
 ],
 "metadata": {
  "kernelspec": {
   "display_name": "anaconda-2022.05-py39",
   "language": "python",
   "name": "conda-env-anaconda-2022.05-py39-py"
  },
  "language_info": {
   "codemirror_mode": {
    "name": "ipython",
    "version": 3
   },
   "file_extension": ".py",
   "mimetype": "text/x-python",
   "name": "python",
   "nbconvert_exporter": "python",
   "pygments_lexer": "ipython3",
   "version": "3.9.12"
  }
 },
 "nbformat": 4,
 "nbformat_minor": 5
}
