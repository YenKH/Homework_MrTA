{
 "cells": [
  {
   "cell_type": "markdown",
   "id": "eb10e616",
   "metadata": {},
   "source": [
    "Bài 1: Nhập vào số tự nhiên (0-6) trả kết quả về thứ 2 - CN"
   ]
  },
  {
   "cell_type": "code",
   "execution_count": 3,
   "id": "4371ab75",
   "metadata": {},
   "outputs": [
    {
     "name": "stdout",
     "output_type": "stream",
     "text": [
      "Nhập vào một số (trong khoảng 0-6): 5\n",
      "Thứ 7\n"
     ]
    }
   ],
   "source": [
    "Num = int(input('Nhập vào một số (trong khoảng 0-6): '))\n",
    "thu = 'Thứ 2' if Num ==0 else 'Thứ 3' if Num ==1 else 'Thứ 4' if Num ==2 else 'Thứ 5' if Num ==3 else 'Thứ 6' if Num == 4 else 'Thứ 7' if Num ==5 else 'Chủ nhật' if Num ==6 else 'Lỗi nhập dữ liệu đầu vào'\n",
    "print (thu)"
   ]
  },
  {
   "cell_type": "markdown",
   "id": "824fde91",
   "metadata": {},
   "source": [
    "Bài 2: Phần mềm tính giá tiền điện"
   ]
  },
  {
   "cell_type": "code",
   "execution_count": 4,
   "id": "b64d2344",
   "metadata": {},
   "outputs": [
    {
     "name": "stdout",
     "output_type": "stream",
     "text": [
      "Nhập vào số điện tiêu thụ của bạn: 50\n",
      "Số tiền phải trả: 88,400.0 đ\n"
     ]
    }
   ],
   "source": [
    "a = float(input('Nhập vào số điện tiêu thụ của bạn: '))\n",
    "b0 = 1768\n",
    "b1 = 1734\n",
    "b2 = 2014\n",
    "b3 = 2536\n",
    "b4 = 2834\n",
    "b5 = 2927\n",
    "if a<0 : \n",
    "    print(f''' Vui lòng nhập lại...\n",
    "    Số điện tiêu thụ phải >0''')\n",
    "elif a==0:\n",
    "    print(f'Số tiền điện phải nộp : 0đ')\n",
    "else :\n",
    "    muc0 = 50*b0\n",
    "    muc1 = muc0 + 50*b1\n",
    "    muc2 = muc1 + 100*b2\n",
    "    muc3 = muc2 + 100*b3\n",
    "    muc4 = muc3 + 100*b4\n",
    "    tien_dien = a*b0 if a <=50 else muc0+(a-50)*b1 if a<=100 else muc1+(a-100)*b2 if a<=200 else muc2+(a-200)*b3 if a<=300 else muc3 + (a-300)*b4 if a<=400 else muc4 + (a-400)*b5\n",
    "print (f'Số tiền phải trả:', f'{tien_dien:,}' , 'đ')\n"
   ]
  },
  {
   "cell_type": "markdown",
   "id": "f9343f3e",
   "metadata": {},
   "source": [
    "Bài 3: Hiển thị đa thức bậc 2"
   ]
  },
  {
   "cell_type": "code",
   "execution_count": 8,
   "id": "b27f55ee",
   "metadata": {},
   "outputs": [
    {
     "name": "stdout",
     "output_type": "stream",
     "text": [
      "Nhập hệ số thứ nhất của đa thức: 2.3\n",
      "Nhập hệ số thứ hai của đa thức: 3\n",
      "Nhập hệ số thứ ba của đa thức: 0\n",
      " Phương trình bậc 2: 2.3*x^2+3.0*x\n"
     ]
    }
   ],
   "source": [
    "a1 = float(input('Nhập hệ số thứ nhất của đa thức: '))\n",
    "b1 = float(input('Nhập hệ số thứ hai của đa thức: '))\n",
    "c1 = float(input('Nhập hệ số thứ ba của đa thức: '))\n",
    "hs1 = '*x^2'\n",
    "hs2 = '*x'\n",
    "if a1==0 :\n",
    "    print(f'Đa thức bậc 2 cần có hệ số thứ nhất khác 0')\n",
    "else :\n",
    "    a = '' if a1==1 else '-' if a1 == -1 else str(a1) \n",
    "    b=\"\" if b1 ==1 else '-' if b1 == -1 else '+'+ str(b1) if b1>0 else str(b1)\n",
    "    if b1 == 0 :\n",
    "        hs2 ==\"\"\n",
    "    c=\"\" if c1==0 else '+'+ str(c1) if c1>0 else str(c1)\n",
    "    print (f' Phương trình bậc 2: ' + a + hs1 + b + hs2 + c)"
   ]
  },
  {
   "cell_type": "code",
   "execution_count": null,
   "id": "82d2371c",
   "metadata": {},
   "outputs": [],
   "source": []
  },
  {
   "cell_type": "code",
   "execution_count": null,
   "id": "f4719437",
   "metadata": {},
   "outputs": [],
   "source": []
  }
 ],
 "metadata": {
  "kernelspec": {
   "display_name": "Python 3 (ipykernel)",
   "language": "python",
   "name": "python3"
  },
  "language_info": {
   "codemirror_mode": {
    "name": "ipython",
    "version": 3
   },
   "file_extension": ".py",
   "mimetype": "text/x-python",
   "name": "python",
   "nbconvert_exporter": "python",
   "pygments_lexer": "ipython3",
   "version": "3.9.13"
  }
 },
 "nbformat": 4,
 "nbformat_minor": 5
}
