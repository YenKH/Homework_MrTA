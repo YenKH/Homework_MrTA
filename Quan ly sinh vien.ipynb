{
 "cells": [
  {
   "cell_type": "code",
   "execution_count": 16,
   "id": "183d5ef4",
   "metadata": {},
   "outputs": [],
   "source": [
    "class Student:\n",
    "    def __init__(self, code, name, dob, nativePlace):\n",
    "        self.code=code\n",
    "        self.name=name\n",
    "        self.dob=dob\n",
    "        self.nativePlace=nativePlace\n",
    "    def info(self):\n",
    "        print('Mã sinh viên: ', self.code)\n",
    "        print('Họ và tên: ', self.name)\n",
    "        print('Ngày sinh: ', self.dob)\n",
    "        print('Quê quán: ', self.nativePlace)\n",
    "class ListStudent:\n",
    "    def __init__(self, STT, code, name, dob, nativePlace):\n",
    "        self.STT=STT\n",
    "        super().__init__(code, name, dob, nativePlace)\n",
    "    def info(self):\n",
    "        print('STT ', self.STT)\n",
    "        super().self.info()\n",
    "    def themSV(ListStudent):\n",
    "        n = int(input('Bạn muốn thêm thông tin của bao nhiêu sinh viên? '))\n",
    "        listSV = []\n",
    "        i=0\n",
    "        if n<1:\n",
    "            print('Số lượng thêm phải >0')\n",
    "        else:\n",
    "            while i <n:\n",
    "                TT=Student.info()\n",
    "                l=len(TT)\n",
    "                if l<0:\n",
    "                    print('Bạn chưa nhập thông tin')\n",
    "                else:\n",
    "                    listSV = listSV.append(TT)\n",
    "        return listSV\n"
   ]
  },
  {
   "cell_type": "code",
   "execution_count": 5,
   "id": "926b0581",
   "metadata": {},
   "outputs": [
    {
     "name": "stdout",
     "output_type": "stream",
     "text": [
      "Mã sinh viên:  1712pj\n",
      "Họ và tên:  Hà Anh Tuấn\n",
      "Ngày sinh:  17/12/1984\n",
      "Quê quán:  Ninh Bình\n"
     ]
    }
   ],
   "source": [
    "sv=Student('1712pj','Hà Anh Tuấn', '17/12/1984', 'Ninh Bình')\n",
    "sv.info()\n"
   ]
  },
  {
   "cell_type": "code",
   "execution_count": null,
   "id": "a1552e1e",
   "metadata": {},
   "outputs": [],
   "source": []
  }
 ],
 "metadata": {
  "kernelspec": {
   "display_name": "Python 3 (ipykernel)",
   "language": "python",
   "name": "python3"
  },
  "language_info": {
   "codemirror_mode": {
    "name": "ipython",
    "version": 3
   },
   "file_extension": ".py",
   "mimetype": "text/x-python",
   "name": "python",
   "nbconvert_exporter": "python",
   "pygments_lexer": "ipython3",
   "version": "3.9.13"
  }
 },
 "nbformat": 4,
 "nbformat_minor": 5
}
